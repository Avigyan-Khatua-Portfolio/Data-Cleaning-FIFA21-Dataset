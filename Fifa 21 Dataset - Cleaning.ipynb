{
 "cells": [
  {
   "cell_type": "markdown",
   "id": "21a65ad6",
   "metadata": {},
   "source": [
    "# FIFA 21 Dataset - Data Cleaning and Transformation"
   ]
  },
  {
   "cell_type": "code",
   "execution_count": 1,
   "id": "4ca8bae1",
   "metadata": {},
   "outputs": [],
   "source": [
    "import numpy as np\n",
    "import pandas as pd\n",
    "import re"
   ]
  },
  {
   "cell_type": "code",
   "execution_count": 2,
   "id": "9270f349",
   "metadata": {},
   "outputs": [],
   "source": [
    "fifa21 = pd.read_csv(\"fifa21_raw_data.csv\", low_memory = False)"
   ]
  },
  {
   "cell_type": "code",
   "execution_count": 3,
   "id": "1618cd21",
   "metadata": {
    "scrolled": true
   },
   "outputs": [
    {
     "name": "stdout",
     "output_type": "stream",
     "text": [
      "<class 'pandas.core.frame.DataFrame'>\n",
      "RangeIndex: 18979 entries, 0 to 18978\n",
      "Data columns (total 77 columns):\n",
      " #   Column            Non-Null Count  Dtype \n",
      "---  ------            --------------  ----- \n",
      " 0   photoUrl          18979 non-null  object\n",
      " 1   LongName          18979 non-null  object\n",
      " 2   playerUrl         18979 non-null  object\n",
      " 3   Nationality       18979 non-null  object\n",
      " 4   Positions         18979 non-null  object\n",
      " 5   Name              18979 non-null  object\n",
      " 6   Age               18979 non-null  int64 \n",
      " 7   ↓OVA              18979 non-null  int64 \n",
      " 8   POT               18979 non-null  int64 \n",
      " 9   Team & Contract   18979 non-null  object\n",
      " 10  ID                18979 non-null  int64 \n",
      " 11  Height            18979 non-null  object\n",
      " 12  Weight            18979 non-null  object\n",
      " 13  foot              18979 non-null  object\n",
      " 14  BOV               18979 non-null  int64 \n",
      " 15  BP                18979 non-null  object\n",
      " 16  Growth            18979 non-null  int64 \n",
      " 17  Joined            18979 non-null  object\n",
      " 18  Loan Date End     1013 non-null   object\n",
      " 19  Value             18979 non-null  object\n",
      " 20  Wage              18979 non-null  object\n",
      " 21  Release Clause    18979 non-null  object\n",
      " 22  Attacking         18979 non-null  int64 \n",
      " 23  Crossing          18979 non-null  int64 \n",
      " 24  Finishing         18979 non-null  int64 \n",
      " 25  Heading Accuracy  18979 non-null  int64 \n",
      " 26  Short Passing     18979 non-null  int64 \n",
      " 27  Volleys           18979 non-null  int64 \n",
      " 28  Skill             18979 non-null  int64 \n",
      " 29  Dribbling         18979 non-null  int64 \n",
      " 30  Curve             18979 non-null  int64 \n",
      " 31  FK Accuracy       18979 non-null  int64 \n",
      " 32  Long Passing      18979 non-null  int64 \n",
      " 33  Ball Control      18979 non-null  int64 \n",
      " 34  Movement          18979 non-null  int64 \n",
      " 35  Acceleration      18979 non-null  int64 \n",
      " 36  Sprint Speed      18979 non-null  int64 \n",
      " 37  Agility           18979 non-null  int64 \n",
      " 38  Reactions         18979 non-null  int64 \n",
      " 39  Balance           18979 non-null  int64 \n",
      " 40  Power             18979 non-null  int64 \n",
      " 41  Shot Power        18979 non-null  int64 \n",
      " 42  Jumping           18979 non-null  int64 \n",
      " 43  Stamina           18979 non-null  int64 \n",
      " 44  Strength          18979 non-null  int64 \n",
      " 45  Long Shots        18979 non-null  int64 \n",
      " 46  Mentality         18979 non-null  int64 \n",
      " 47  Aggression        18979 non-null  int64 \n",
      " 48  Interceptions     18979 non-null  int64 \n",
      " 49  Positioning       18979 non-null  int64 \n",
      " 50  Vision            18979 non-null  int64 \n",
      " 51  Penalties         18979 non-null  int64 \n",
      " 52  Composure         18979 non-null  int64 \n",
      " 53  Defending         18979 non-null  int64 \n",
      " 54  Marking           18979 non-null  int64 \n",
      " 55  Standing Tackle   18979 non-null  int64 \n",
      " 56  Sliding Tackle    18979 non-null  int64 \n",
      " 57  Goalkeeping       18979 non-null  int64 \n",
      " 58  GK Diving         18979 non-null  int64 \n",
      " 59  GK Handling       18979 non-null  int64 \n",
      " 60  GK Kicking        18979 non-null  int64 \n",
      " 61  GK Positioning    18979 non-null  int64 \n",
      " 62  GK Reflexes       18979 non-null  int64 \n",
      " 63  Total Stats       18979 non-null  int64 \n",
      " 64  Base Stats        18979 non-null  int64 \n",
      " 65  W/F               18979 non-null  object\n",
      " 66  SM                18979 non-null  object\n",
      " 67  A/W               18979 non-null  object\n",
      " 68  D/W               18979 non-null  object\n",
      " 69  IR                18979 non-null  object\n",
      " 70  PAC               18979 non-null  int64 \n",
      " 71  SHO               18979 non-null  int64 \n",
      " 72  PAS               18979 non-null  int64 \n",
      " 73  DRI               18979 non-null  int64 \n",
      " 74  DEF               18979 non-null  int64 \n",
      " 75  PHY               18979 non-null  int64 \n",
      " 76  Hits              18979 non-null  object\n",
      "dtypes: int64(55), object(22)\n",
      "memory usage: 11.1+ MB\n"
     ]
    }
   ],
   "source": [
    "fifa21.info()"
   ]
  },
  {
   "cell_type": "markdown",
   "id": "b86ce8b0",
   "metadata": {},
   "source": [
    "## Converting Height and Weight into Numeric Data Types"
   ]
  },
  {
   "cell_type": "markdown",
   "id": "ffe05f38",
   "metadata": {},
   "source": [
    "It is observed that height and weight columns are not of the appropriate type."
   ]
  },
  {
   "cell_type": "code",
   "execution_count": 4,
   "id": "f63b663d",
   "metadata": {},
   "outputs": [
    {
     "data": {
      "text/plain": [
       "Height\n",
       "6'0\"     2859\n",
       "5'10\"    2654\n",
       "5'9\"     2304\n",
       "5'11\"    2188\n",
       "6'2\"     2108\n",
       "6'1\"     2001\n",
       "5'8\"     1069\n",
       "6'3\"     1049\n",
       "5'7\"      953\n",
       "6'4\"      797\n",
       "5'6\"      332\n",
       "6'5\"      280\n",
       "5'5\"      188\n",
       "6'6\"      116\n",
       "5'4\"       33\n",
       "6'7\"       20\n",
       "5'3\"       15\n",
       "6'8\"        6\n",
       "5'2\"        4\n",
       "5'1\"        2\n",
       "6'9\"        1\n",
       "Name: count, dtype: int64"
      ]
     },
     "execution_count": 4,
     "metadata": {},
     "output_type": "execute_result"
    }
   ],
   "source": [
    "fifa21.Height.value_counts()"
   ]
  },
  {
   "cell_type": "code",
   "execution_count": 5,
   "id": "c6188456",
   "metadata": {},
   "outputs": [],
   "source": [
    "# Height in cm is prefered for conversion to numerical type.\n",
    "height_dict = {\n",
    "    '''6'0\"''':'182.88',\n",
    "    '''5'10\"''':'177.8',\n",
    "    '''5'9\"''':'175.26',\n",
    "    '''5'11\"''':'180.34',\n",
    "    '''6'2\"''':'187.96',\n",
    "    '''6'1\"''':'185.42',\n",
    "    '''5'8\"''':'172.72',\n",
    "    '''6'3\"''':'190.5',\n",
    "    '''5'7\"''':'170.18',\n",
    "    '''6'4\"''':'193.04',\n",
    "    '''5'6\"''':'167.64',\n",
    "    '''6'5\"''':'195.58',\n",
    "    '''5'5\"''':'165.1',\n",
    "    '''6'6\"''':'198.12',\n",
    "    '''5'4\"''':'162.56',\n",
    "    '''6'7\"''':'200.66',\n",
    "    '''5'3\"''':'160.02',\n",
    "    '''6'8\"''':'203.2',\n",
    "    '''5'2\"''':'157.48',\n",
    "    '''5'1\"''':'154.94',\n",
    "    '''6'9\"''':'205.74'\n",
    "}"
   ]
  },
  {
   "cell_type": "code",
   "execution_count": 6,
   "id": "70848f2b",
   "metadata": {},
   "outputs": [],
   "source": [
    "fifa21.Height = fifa21.Height.astype('str').map(height_dict).astype(float)"
   ]
  },
  {
   "cell_type": "code",
   "execution_count": 7,
   "id": "848fd157",
   "metadata": {},
   "outputs": [
    {
     "data": {
      "text/plain": [
       "0        170.18\n",
       "1        187.96\n",
       "2        187.96\n",
       "3        180.34\n",
       "4        175.26\n",
       "          ...  \n",
       "18974    177.80\n",
       "18975    170.18\n",
       "18976    177.80\n",
       "18977    175.26\n",
       "18978    175.26\n",
       "Name: Height, Length: 18979, dtype: float64"
      ]
     },
     "execution_count": 7,
     "metadata": {},
     "output_type": "execute_result"
    }
   ],
   "source": [
    "# Checking if the change has worked\n",
    "fifa21.Height"
   ]
  },
  {
   "cell_type": "markdown",
   "id": "164d55e5",
   "metadata": {},
   "source": [
    "The heights have been converted to cm and thus, floating values."
   ]
  },
  {
   "cell_type": "code",
   "execution_count": 8,
   "id": "b53f0867",
   "metadata": {},
   "outputs": [
    {
     "data": {
      "text/plain": [
       "Weight\n",
       "154lbs    1496\n",
       "165lbs    1458\n",
       "176lbs    1109\n",
       "159lbs    1024\n",
       "172lbs     995\n",
       "163lbs     957\n",
       "161lbs     956\n",
       "170lbs     893\n",
       "168lbs     880\n",
       "150lbs     795\n",
       "174lbs     684\n",
       "157lbs     648\n",
       "181lbs     622\n",
       "152lbs     566\n",
       "143lbs     535\n",
       "179lbs     523\n",
       "183lbs     515\n",
       "148lbs     508\n",
       "185lbs     444\n",
       "187lbs     423\n",
       "146lbs     401\n",
       "141lbs     341\n",
       "190lbs     285\n",
       "194lbs     266\n",
       "139lbs     239\n",
       "192lbs     224\n",
       "137lbs     181\n",
       "198lbs     156\n",
       "132lbs     153\n",
       "196lbs     128\n",
       "134lbs      96\n",
       "201lbs      87\n",
       "203lbs      68\n",
       "205lbs      52\n",
       "128lbs      44\n",
       "130lbs      41\n",
       "207lbs      34\n",
       "209lbs      30\n",
       "126lbs      19\n",
       "121lbs      17\n",
       "212lbs      15\n",
       "216lbs      13\n",
       "123lbs      12\n",
       "214lbs       9\n",
       "220lbs       8\n",
       "119lbs       5\n",
       "227lbs       4\n",
       "225lbs       4\n",
       "223lbs       4\n",
       "218lbs       3\n",
       "229lbs       3\n",
       "115lbs       2\n",
       "236lbs       1\n",
       "243lbs       1\n",
       "117lbs       1\n",
       "110lbs       1\n",
       "Name: count, dtype: int64"
      ]
     },
     "execution_count": 8,
     "metadata": {},
     "output_type": "execute_result"
    }
   ],
   "source": [
    "fifa21.Weight.value_counts()"
   ]
  },
  {
   "cell_type": "code",
   "execution_count": 9,
   "id": "3b508421",
   "metadata": {},
   "outputs": [],
   "source": [
    "# Running a for loop to drop each 'lbs' term\n",
    "for index, weight in enumerate(fifa21.Weight):\n",
    "    fifa21.loc[index, 'Weight'] = int(weight.replace('lbs',''))"
   ]
  },
  {
   "cell_type": "code",
   "execution_count": 10,
   "id": "24014214",
   "metadata": {
    "scrolled": true
   },
   "outputs": [],
   "source": [
    "fifa21.Weight = fifa21.Weight.astype(int)"
   ]
  },
  {
   "cell_type": "code",
   "execution_count": 11,
   "id": "c81d6d5d",
   "metadata": {},
   "outputs": [
    {
     "data": {
      "text/plain": [
       "0        159\n",
       "1        183\n",
       "2        192\n",
       "3        154\n",
       "4        150\n",
       "        ... \n",
       "18974    154\n",
       "18975    128\n",
       "18976    146\n",
       "18977    143\n",
       "18978    150\n",
       "Name: Weight, Length: 18979, dtype: int32"
      ]
     },
     "execution_count": 11,
     "metadata": {},
     "output_type": "execute_result"
    }
   ],
   "source": [
    "# Checking if the change has worked\n",
    "fifa21.Weight"
   ]
  },
  {
   "cell_type": "markdown",
   "id": "47ae43b4",
   "metadata": {},
   "source": [
    "Thus, the Height and Weight columns have been converted into numeric formats."
   ]
  },
  {
   "cell_type": "markdown",
   "id": "ed04bfa0",
   "metadata": {},
   "source": [
    "## Converting the Date Columns into Datetime format"
   ]
  },
  {
   "cell_type": "code",
   "execution_count": 12,
   "id": "8103e8b9",
   "metadata": {},
   "outputs": [
    {
     "data": {
      "text/plain": [
       "0         Jul 1, 2004\n",
       "1        Jul 10, 2018\n",
       "2        Jul 16, 2014\n",
       "3        Aug 30, 2015\n",
       "4         Aug 3, 2017\n",
       "             ...     \n",
       "18974     Aug 1, 2020\n",
       "18975     Aug 1, 2020\n",
       "18976    Jul 13, 2018\n",
       "18977     Aug 1, 2020\n",
       "18978     Jan 1, 2020\n",
       "Name: Joined, Length: 18979, dtype: object"
      ]
     },
     "execution_count": 12,
     "metadata": {},
     "output_type": "execute_result"
    }
   ],
   "source": [
    "fifa21.Joined"
   ]
  },
  {
   "cell_type": "code",
   "execution_count": 13,
   "id": "7f53790a",
   "metadata": {},
   "outputs": [],
   "source": [
    "fifa21.Joined = pd.to_datetime(fifa21.Joined)"
   ]
  },
  {
   "cell_type": "code",
   "execution_count": 14,
   "id": "30fe68f4",
   "metadata": {
    "scrolled": false
   },
   "outputs": [
    {
     "data": {
      "text/plain": [
       "0       2004-07-01\n",
       "1       2018-07-10\n",
       "2       2014-07-16\n",
       "3       2015-08-30\n",
       "4       2017-08-03\n",
       "           ...    \n",
       "18974   2020-08-01\n",
       "18975   2020-08-01\n",
       "18976   2018-07-13\n",
       "18977   2020-08-01\n",
       "18978   2020-01-01\n",
       "Name: Joined, Length: 18979, dtype: datetime64[ns]"
      ]
     },
     "execution_count": 14,
     "metadata": {},
     "output_type": "execute_result"
    }
   ],
   "source": [
    "fifa21.Joined"
   ]
  },
  {
   "cell_type": "code",
   "execution_count": 15,
   "id": "cfdb665b",
   "metadata": {},
   "outputs": [],
   "source": [
    "fifa21['Loan Date End'] = pd.to_datetime(fifa21['Loan Date End'])"
   ]
  },
  {
   "cell_type": "code",
   "execution_count": 16,
   "id": "01528795",
   "metadata": {},
   "outputs": [
    {
     "data": {
      "text/plain": [
       "0       NaT\n",
       "1       NaT\n",
       "2       NaT\n",
       "3       NaT\n",
       "4       NaT\n",
       "         ..\n",
       "18974   NaT\n",
       "18975   NaT\n",
       "18976   NaT\n",
       "18977   NaT\n",
       "18978   NaT\n",
       "Name: Loan Date End, Length: 18979, dtype: datetime64[ns]"
      ]
     },
     "execution_count": 16,
     "metadata": {},
     "output_type": "execute_result"
    }
   ],
   "source": [
    "fifa21['Loan Date End']"
   ]
  },
  {
   "cell_type": "markdown",
   "id": "26c9afb1",
   "metadata": {},
   "source": [
    "The Joined and Loan Date End columns have been converted to a more usable datetime format."
   ]
  },
  {
   "cell_type": "markdown",
   "id": "6d5dffef",
   "metadata": {},
   "source": [
    "## Cleaning the Value Column"
   ]
  },
  {
   "cell_type": "code",
   "execution_count": 17,
   "id": "1ec2914d",
   "metadata": {
    "scrolled": true
   },
   "outputs": [
    {
     "data": {
      "text/plain": [
       "0        €67.5M\n",
       "1          €46M\n",
       "2          €75M\n",
       "3          €87M\n",
       "4          €90M\n",
       "          ...  \n",
       "18974      €35K\n",
       "18975      €60K\n",
       "18976      €40K\n",
       "18977      €60K\n",
       "18978      €60K\n",
       "Name: Value, Length: 18979, dtype: object"
      ]
     },
     "execution_count": 17,
     "metadata": {},
     "output_type": "execute_result"
    }
   ],
   "source": [
    "fifa21.Value"
   ]
  },
  {
   "cell_type": "code",
   "execution_count": 18,
   "id": "0f09be2d",
   "metadata": {},
   "outputs": [
    {
     "name": "stdout",
     "output_type": "stream",
     "text": [
      "{'0', 'K', 'M'}\n"
     ]
    }
   ],
   "source": [
    "# Checking all possible end value terms\n",
    "values = []\n",
    "for value in fifa21.Value:\n",
    "    if value[-1] == 'M':\n",
    "        values.append('M')\n",
    "    elif value[-1] == 'K':\n",
    "        values.append('K')\n",
    "    elif value[-1] == '0':\n",
    "        values.append('0')\n",
    "    else:\n",
    "        values.append(value)\n",
    "print(set(values))"
   ]
  },
  {
   "cell_type": "markdown",
   "id": "f0a11ad3",
   "metadata": {},
   "source": [
    "Thus there are only terms like €1M, €1K or €0."
   ]
  },
  {
   "cell_type": "code",
   "execution_count": 19,
   "id": "da33a5d6",
   "metadata": {
    "scrolled": true
   },
   "outputs": [],
   "source": [
    "# Running a for loop to drop each €, M, K term:\n",
    "for index, value in enumerate(fifa21.Value):\n",
    "    if value[-1] == 'M':        \n",
    "        fifa21.loc[index, 'Value'] = int(float(value[1:-1])*1000000)\n",
    "    elif value[-1] == 'K':\n",
    "        fifa21.loc[index, 'Value'] = int(float(value[1:-1])*1000)\n",
    "    else:\n",
    "        fifa21.loc[index, 'Value'] = 0\n"
   ]
  },
  {
   "cell_type": "code",
   "execution_count": 20,
   "id": "8995f017",
   "metadata": {
    "scrolled": true
   },
   "outputs": [],
   "source": [
    "fifa21.Value = fifa21.Value.astype(int)"
   ]
  },
  {
   "cell_type": "code",
   "execution_count": 21,
   "id": "8e37abee",
   "metadata": {},
   "outputs": [
    {
     "data": {
      "text/plain": [
       "0        67500000\n",
       "1        46000000\n",
       "2        75000000\n",
       "3        87000000\n",
       "4        90000000\n",
       "           ...   \n",
       "18974       35000\n",
       "18975       60000\n",
       "18976       40000\n",
       "18977       60000\n",
       "18978       60000\n",
       "Name: Value, Length: 18979, dtype: int32"
      ]
     },
     "execution_count": 21,
     "metadata": {},
     "output_type": "execute_result"
    }
   ],
   "source": [
    "# Checking if the change has worked\n",
    "fifa21.Value"
   ]
  },
  {
   "cell_type": "markdown",
   "id": "a7e96713",
   "metadata": {},
   "source": [
    "## Cleaning the Wage Column"
   ]
  },
  {
   "cell_type": "code",
   "execution_count": 22,
   "id": "3fc64874",
   "metadata": {},
   "outputs": [
    {
     "data": {
      "text/plain": [
       "0        €560K\n",
       "1        €220K\n",
       "2        €125K\n",
       "3        €370K\n",
       "4        €270K\n",
       "         ...  \n",
       "18974      €1K\n",
       "18975     €500\n",
       "18976      €1K\n",
       "18977     €500\n",
       "18978     €500\n",
       "Name: Wage, Length: 18979, dtype: object"
      ]
     },
     "execution_count": 22,
     "metadata": {},
     "output_type": "execute_result"
    }
   ],
   "source": [
    "fifa21.Wage"
   ]
  },
  {
   "cell_type": "code",
   "execution_count": 23,
   "id": "2da49472",
   "metadata": {},
   "outputs": [
    {
     "name": "stdout",
     "output_type": "stream",
     "text": [
      "{'int', '0', 'K'}\n"
     ]
    }
   ],
   "source": [
    "values = []\n",
    "for value in fifa21.Wage:\n",
    "    if value[-1] == 'M':\n",
    "        values.append('M')\n",
    "    elif value[-1] == 'K':\n",
    "        values.append('K')\n",
    "    elif value[-1] == '0' and value[1] == '0':\n",
    "        values.append('0')\n",
    "    else:\n",
    "        values.append('int')\n",
    "print(set(values))"
   ]
  },
  {
   "cell_type": "markdown",
   "id": "277482a0",
   "metadata": {},
   "source": [
    "Thus there are only terms like €1K, €500 or €0."
   ]
  },
  {
   "cell_type": "code",
   "execution_count": 24,
   "id": "ca859006",
   "metadata": {},
   "outputs": [],
   "source": [
    "for index, value in enumerate(fifa21.Wage):\n",
    "    if value[-1] == 'K':        \n",
    "        fifa21.loc[index, 'Wage'] = int(float(value[1:-1])*1000)\n",
    "    elif value[-1] == '0' and value[1] == '0':\n",
    "        fifa21.loc[index, 'Wage'] = 0\n",
    "    else:\n",
    "        fifa21.loc[index, 'Wage'] = int(value[1:])"
   ]
  },
  {
   "cell_type": "code",
   "execution_count": 25,
   "id": "7e0efa28",
   "metadata": {},
   "outputs": [],
   "source": [
    "fifa21.Wage = fifa21.Wage.astype(int)"
   ]
  },
  {
   "cell_type": "code",
   "execution_count": 26,
   "id": "377e9916",
   "metadata": {},
   "outputs": [
    {
     "data": {
      "text/plain": [
       "0        560000\n",
       "1        220000\n",
       "2        125000\n",
       "3        370000\n",
       "4        270000\n",
       "          ...  \n",
       "18974      1000\n",
       "18975       500\n",
       "18976      1000\n",
       "18977       500\n",
       "18978       500\n",
       "Name: Wage, Length: 18979, dtype: int32"
      ]
     },
     "execution_count": 26,
     "metadata": {},
     "output_type": "execute_result"
    }
   ],
   "source": [
    "# Checking if the change has worked\n",
    "fifa21.Wage"
   ]
  },
  {
   "cell_type": "markdown",
   "id": "b1b43a8f",
   "metadata": {},
   "source": [
    "## Cleaning the Release Clause Column"
   ]
  },
  {
   "cell_type": "code",
   "execution_count": 27,
   "id": "a4de8601",
   "metadata": {},
   "outputs": [
    {
     "data": {
      "text/plain": [
       "0        €138.4M\n",
       "1         €75.9M\n",
       "2        €159.4M\n",
       "3          €161M\n",
       "4        €166.5M\n",
       "          ...   \n",
       "18974       €57K\n",
       "18975      €165K\n",
       "18976       €70K\n",
       "18977      €165K\n",
       "18978      €167K\n",
       "Name: Release Clause, Length: 18979, dtype: object"
      ]
     },
     "execution_count": 27,
     "metadata": {},
     "output_type": "execute_result"
    }
   ],
   "source": [
    "fifa21['Release Clause']"
   ]
  },
  {
   "cell_type": "code",
   "execution_count": 28,
   "id": "98d24894",
   "metadata": {},
   "outputs": [
    {
     "name": "stdout",
     "output_type": "stream",
     "text": [
      "{'0', 'K', 'M'}\n"
     ]
    }
   ],
   "source": [
    "# Checking all possible end value terms\n",
    "values = []\n",
    "for value in fifa21['Release Clause']:\n",
    "    if value[-1] == 'M':\n",
    "        values.append('M')\n",
    "    elif value[-1] == 'K':\n",
    "        values.append('K')\n",
    "    elif value[-1] == '0':\n",
    "        values.append('0')\n",
    "    else:\n",
    "        values.append(value)\n",
    "print(set(values))"
   ]
  },
  {
   "cell_type": "markdown",
   "id": "76ad772c",
   "metadata": {},
   "source": [
    "Thus there are only terms like €1M, €1K or €0."
   ]
  },
  {
   "cell_type": "code",
   "execution_count": 29,
   "id": "13e358e6",
   "metadata": {},
   "outputs": [],
   "source": [
    "# Running a for loop to drop each €, M, K term:\n",
    "for index, value in enumerate(fifa21['Release Clause']):\n",
    "    if value[-1] == 'M':        \n",
    "        fifa21.loc[index, 'Release Clause'] = int(float(value[1:-1])*1000000)\n",
    "    elif value[-1] == 'K':\n",
    "        fifa21.loc[index, 'Release Clause'] = int(float(value[1:-1])*1000)\n",
    "    else:\n",
    "        fifa21.loc[index, 'Release Clause'] = 0"
   ]
  },
  {
   "cell_type": "code",
   "execution_count": 30,
   "id": "2d4b5a3a",
   "metadata": {},
   "outputs": [],
   "source": [
    "fifa21['Release Clause'] = fifa21['Release Clause'].astype(int)"
   ]
  },
  {
   "cell_type": "code",
   "execution_count": 31,
   "id": "11f8b466",
   "metadata": {},
   "outputs": [
    {
     "data": {
      "text/plain": [
       "0        138400000\n",
       "1         75900000\n",
       "2        159400000\n",
       "3        161000000\n",
       "4        166500000\n",
       "           ...    \n",
       "18974        57000\n",
       "18975       165000\n",
       "18976        70000\n",
       "18977       165000\n",
       "18978       167000\n",
       "Name: Release Clause, Length: 18979, dtype: int32"
      ]
     },
     "execution_count": 31,
     "metadata": {},
     "output_type": "execute_result"
    }
   ],
   "source": [
    "# Checking if the change has worked\n",
    "fifa21['Release Clause']"
   ]
  },
  {
   "cell_type": "markdown",
   "id": "3456fe03",
   "metadata": {},
   "source": [
    "Thus the Value, Wage and Release Clause columns have been converted to integer columns for higher usability."
   ]
  },
  {
   "cell_type": "markdown",
   "id": "bc018200",
   "metadata": {},
   "source": [
    "## Removing New-Line characters from Hits"
   ]
  },
  {
   "cell_type": "code",
   "execution_count": 32,
   "id": "3e131443",
   "metadata": {},
   "outputs": [
    {
     "data": {
      "text/plain": [
       "0        \\n372\n",
       "1        \\n344\n",
       "2         \\n86\n",
       "3        \\n163\n",
       "4        \\n273\n",
       "         ...  \n",
       "18974      \\n2\n",
       "18975      \\n3\n",
       "18976      \\n3\n",
       "18977      \\n5\n",
       "18978      \\n2\n",
       "Name: Hits, Length: 18979, dtype: object"
      ]
     },
     "execution_count": 32,
     "metadata": {},
     "output_type": "execute_result"
    }
   ],
   "source": [
    "fifa21.Hits"
   ]
  },
  {
   "cell_type": "code",
   "execution_count": 33,
   "id": "d6f2d884",
   "metadata": {},
   "outputs": [],
   "source": [
    "# Running a for loop to drop each '\\n' term\n",
    "for index, hits in enumerate(fifa21.Hits):\n",
    "    fifa21.loc[index, 'Hits'] = hits.replace('\\n','')"
   ]
  },
  {
   "cell_type": "code",
   "execution_count": 34,
   "id": "d368e5cb",
   "metadata": {},
   "outputs": [],
   "source": [
    "# Running a for loop to drop each 'K' term\n",
    "for index, hits in enumerate(fifa21.Hits):    \n",
    "    if hits[-1] == 'K':\n",
    "        fifa21.loc[index, 'Hits'] = int(float(hits[:-1])*1000)\n",
    "    else:\n",
    "        fifa21.loc[index, 'Hits'] = int(hits)"
   ]
  },
  {
   "cell_type": "code",
   "execution_count": 35,
   "id": "08403f4a",
   "metadata": {},
   "outputs": [],
   "source": [
    "fifa21.Hits = fifa21.Hits.astype(int)"
   ]
  },
  {
   "cell_type": "code",
   "execution_count": 36,
   "id": "51c3a103",
   "metadata": {},
   "outputs": [
    {
     "data": {
      "text/plain": [
       "0        372\n",
       "1        344\n",
       "2         86\n",
       "3        163\n",
       "4        273\n",
       "        ... \n",
       "18974      2\n",
       "18975      3\n",
       "18976      3\n",
       "18977      5\n",
       "18978      2\n",
       "Name: Hits, Length: 18979, dtype: int32"
      ]
     },
     "execution_count": 36,
     "metadata": {},
     "output_type": "execute_result"
    }
   ],
   "source": [
    "# Checking if the changes were successful\n",
    "fifa21.Hits"
   ]
  },
  {
   "cell_type": "markdown",
   "id": "4d2a4325",
   "metadata": {},
   "source": [
    "## Team and Contract Column"
   ]
  },
  {
   "cell_type": "code",
   "execution_count": 37,
   "id": "786f5c66",
   "metadata": {},
   "outputs": [
    {
     "data": {
      "text/plain": [
       "'\\n\\n\\n\\nFC Barcelona\\n2004 ~ 2021\\n\\n'"
      ]
     },
     "execution_count": 37,
     "metadata": {},
     "output_type": "execute_result"
    }
   ],
   "source": [
    "fifa21['Team & Contract'][0]"
   ]
  },
  {
   "cell_type": "code",
   "execution_count": 38,
   "id": "3bf76665",
   "metadata": {},
   "outputs": [
    {
     "data": {
      "text/plain": [
       "'\\n\\n\\n\\nTottenham Hotspur\\nJun 30, 2021 On Loan\\n\\n'"
      ]
     },
     "execution_count": 38,
     "metadata": {},
     "output_type": "execute_result"
    }
   ],
   "source": [
    "fifa21['Team & Contract'][205]"
   ]
  },
  {
   "cell_type": "code",
   "execution_count": 39,
   "id": "38fa9056",
   "metadata": {},
   "outputs": [
    {
     "data": {
      "text/plain": [
       "'\\n Brazil\\nFree\\n\\n'"
      ]
     },
     "execution_count": 39,
     "metadata": {},
     "output_type": "execute_result"
    }
   ],
   "source": [
    "fifa21['Team & Contract'][292]"
   ]
  },
  {
   "cell_type": "markdown",
   "id": "7b85516b",
   "metadata": {},
   "source": [
    "It would be useful if we extract the team name, contract start year and contract end year separately."
   ]
  },
  {
   "cell_type": "code",
   "execution_count": 40,
   "id": "6ba2e9fe",
   "metadata": {},
   "outputs": [],
   "source": [
    "# Writing Functions to Extract relevant data from the given strings\n",
    "\n",
    "def name_check(input_string):\n",
    "    pattern1 = r'\\n\\n\\n\\n(.+)\\n(\\d+) ~ (\\d+)\\n\\n'\n",
    "    match1 = re.search(pattern1, input_string)\n",
    "    \n",
    "    pattern2 = r'\\n\\n\\n\\n(.+)\\n([\\w\\s]+ \\d{1,2}, \\d{4}) On Loan\\n\\n'\n",
    "    match2 = re.search(pattern2, input_string)\n",
    "    \n",
    "    pattern3 = r'\\n (.+)\\nFree\\n\\n'\n",
    "    match3 = re.search(pattern3, input_string)\n",
    "    \n",
    "\n",
    "    if match1:\n",
    "        # Extract the matched groups\n",
    "        team_name = match1.group(1)\n",
    "        year1 = int(match1.group(2))\n",
    "        year2 = int(match1.group(3))\n",
    "        date = None\n",
    "        loan = False\n",
    "        free = False\n",
    "        \n",
    "    elif match2:\n",
    "        # Extract the matched groups\n",
    "        team_name = match2.group(1)\n",
    "        date = match2.group(2)\n",
    "        year1 = None\n",
    "        year2 = None\n",
    "        loan = True\n",
    "        free = False\n",
    "    \n",
    "    elif match3:\n",
    "        # Extract the matched group\n",
    "        team_name = match3.group(1)\n",
    "        date = None\n",
    "        year1 = None\n",
    "        year2 = None\n",
    "        loan = False\n",
    "        free = True\n",
    "    else:\n",
    "        team_name = None\n",
    "        date = None\n",
    "        year1 = None\n",
    "        year2 = None\n",
    "        loan = False\n",
    "        free = False\n",
    "    return team_name, year1, year2, date, loan, free"
   ]
  },
  {
   "cell_type": "code",
   "execution_count": 41,
   "id": "fba228e6",
   "metadata": {},
   "outputs": [],
   "source": [
    "contracts = {\n",
    "    'ID':[],\n",
    "    'Team':[],\n",
    "    'Start Year':[],\n",
    "    'End Year':[],\n",
    "    'Loan':[],\n",
    "    'Date':[],\n",
    "    'Free':[]\n",
    "}"
   ]
  },
  {
   "cell_type": "code",
   "execution_count": 42,
   "id": "9aa5c7d8",
   "metadata": {},
   "outputs": [],
   "source": [
    "for index, team in enumerate(fifa21['Team & Contract']):\n",
    "    contracts['ID'].append(index)\n",
    "    team_name, year1, year2, date, loan, free = name_check(team)\n",
    "    contracts['Team'].append(team_name)\n",
    "    contracts['Start Year'].append(year1)\n",
    "    contracts['End Year'].append(year2)\n",
    "    contracts['Loan'].append(loan)\n",
    "    contracts['Date'].append(date)\n",
    "    contracts['Free'].append(free)"
   ]
  },
  {
   "cell_type": "code",
   "execution_count": 43,
   "id": "4e92d77c",
   "metadata": {},
   "outputs": [],
   "source": [
    "df = pd.DataFrame(contracts)"
   ]
  },
  {
   "cell_type": "code",
   "execution_count": 44,
   "id": "b4e4a84e",
   "metadata": {},
   "outputs": [],
   "source": [
    "df['Date'] = pd.to_datetime(df['Date'])"
   ]
  },
  {
   "cell_type": "code",
   "execution_count": 45,
   "id": "98d32fb5",
   "metadata": {
    "scrolled": true
   },
   "outputs": [
    {
     "data": {
      "text/html": [
       "<div>\n",
       "<style scoped>\n",
       "    .dataframe tbody tr th:only-of-type {\n",
       "        vertical-align: middle;\n",
       "    }\n",
       "\n",
       "    .dataframe tbody tr th {\n",
       "        vertical-align: top;\n",
       "    }\n",
       "\n",
       "    .dataframe thead th {\n",
       "        text-align: right;\n",
       "    }\n",
       "</style>\n",
       "<table border=\"1\" class=\"dataframe\">\n",
       "  <thead>\n",
       "    <tr style=\"text-align: right;\">\n",
       "      <th></th>\n",
       "      <th>ID</th>\n",
       "      <th>Team</th>\n",
       "      <th>Start Year</th>\n",
       "      <th>End Year</th>\n",
       "      <th>Loan</th>\n",
       "      <th>Date</th>\n",
       "      <th>Free</th>\n",
       "    </tr>\n",
       "  </thead>\n",
       "  <tbody>\n",
       "    <tr>\n",
       "      <th>0</th>\n",
       "      <td>0</td>\n",
       "      <td>FC Barcelona</td>\n",
       "      <td>2004.0</td>\n",
       "      <td>2021.0</td>\n",
       "      <td>False</td>\n",
       "      <td>NaT</td>\n",
       "      <td>False</td>\n",
       "    </tr>\n",
       "    <tr>\n",
       "      <th>1</th>\n",
       "      <td>1</td>\n",
       "      <td>Juventus</td>\n",
       "      <td>2018.0</td>\n",
       "      <td>2022.0</td>\n",
       "      <td>False</td>\n",
       "      <td>NaT</td>\n",
       "      <td>False</td>\n",
       "    </tr>\n",
       "    <tr>\n",
       "      <th>2</th>\n",
       "      <td>2</td>\n",
       "      <td>Atlético Madrid</td>\n",
       "      <td>2014.0</td>\n",
       "      <td>2023.0</td>\n",
       "      <td>False</td>\n",
       "      <td>NaT</td>\n",
       "      <td>False</td>\n",
       "    </tr>\n",
       "    <tr>\n",
       "      <th>3</th>\n",
       "      <td>3</td>\n",
       "      <td>Manchester City</td>\n",
       "      <td>2015.0</td>\n",
       "      <td>2023.0</td>\n",
       "      <td>False</td>\n",
       "      <td>NaT</td>\n",
       "      <td>False</td>\n",
       "    </tr>\n",
       "    <tr>\n",
       "      <th>4</th>\n",
       "      <td>4</td>\n",
       "      <td>Paris Saint-Germain</td>\n",
       "      <td>2017.0</td>\n",
       "      <td>2022.0</td>\n",
       "      <td>False</td>\n",
       "      <td>NaT</td>\n",
       "      <td>False</td>\n",
       "    </tr>\n",
       "  </tbody>\n",
       "</table>\n",
       "</div>"
      ],
      "text/plain": [
       "   ID                 Team  Start Year  End Year   Loan Date   Free\n",
       "0   0         FC Barcelona      2004.0    2021.0  False  NaT  False\n",
       "1   1             Juventus      2018.0    2022.0  False  NaT  False\n",
       "2   2      Atlético Madrid      2014.0    2023.0  False  NaT  False\n",
       "3   3      Manchester City      2015.0    2023.0  False  NaT  False\n",
       "4   4  Paris Saint-Germain      2017.0    2022.0  False  NaT  False"
      ]
     },
     "execution_count": 45,
     "metadata": {},
     "output_type": "execute_result"
    }
   ],
   "source": [
    "df.head()"
   ]
  },
  {
   "cell_type": "code",
   "execution_count": 46,
   "id": "588c0503",
   "metadata": {},
   "outputs": [
    {
     "name": "stdout",
     "output_type": "stream",
     "text": [
      "<class 'pandas.core.frame.DataFrame'>\n",
      "RangeIndex: 18979 entries, 0 to 18978\n",
      "Data columns (total 7 columns):\n",
      " #   Column      Non-Null Count  Dtype         \n",
      "---  ------      --------------  -----         \n",
      " 0   ID          18979 non-null  int64         \n",
      " 1   Team        18979 non-null  object        \n",
      " 2   Start Year  17728 non-null  float64       \n",
      " 3   End Year    17728 non-null  float64       \n",
      " 4   Loan        18979 non-null  bool          \n",
      " 5   Date        1013 non-null   datetime64[ns]\n",
      " 6   Free        18979 non-null  bool          \n",
      "dtypes: bool(2), datetime64[ns](1), float64(2), int64(1), object(1)\n",
      "memory usage: 778.6+ KB\n"
     ]
    }
   ],
   "source": [
    "df.info()"
   ]
  },
  {
   "cell_type": "markdown",
   "id": "941a088f",
   "metadata": {},
   "source": [
    "Now that this data has been extracted, it can be joined and the Team & Contract column from the original be dropped."
   ]
  },
  {
   "cell_type": "code",
   "execution_count": 47,
   "id": "8329e27b",
   "metadata": {},
   "outputs": [],
   "source": [
    "df.drop('ID', axis=1, inplace = True)\n",
    "fifa21.drop('Team & Contract', axis=1, inplace = True)\n",
    "fifa21 = fifa21.merge(df, how = 'left', left_index = True, right_index= True)"
   ]
  },
  {
   "cell_type": "code",
   "execution_count": 48,
   "id": "fd64449a",
   "metadata": {
    "scrolled": true
   },
   "outputs": [
    {
     "data": {
      "text/html": [
       "<div>\n",
       "<style scoped>\n",
       "    .dataframe tbody tr th:only-of-type {\n",
       "        vertical-align: middle;\n",
       "    }\n",
       "\n",
       "    .dataframe tbody tr th {\n",
       "        vertical-align: top;\n",
       "    }\n",
       "\n",
       "    .dataframe thead th {\n",
       "        text-align: right;\n",
       "    }\n",
       "</style>\n",
       "<table border=\"1\" class=\"dataframe\">\n",
       "  <thead>\n",
       "    <tr style=\"text-align: right;\">\n",
       "      <th></th>\n",
       "      <th>photoUrl</th>\n",
       "      <th>LongName</th>\n",
       "      <th>playerUrl</th>\n",
       "      <th>Nationality</th>\n",
       "      <th>Positions</th>\n",
       "      <th>Name</th>\n",
       "      <th>Age</th>\n",
       "      <th>↓OVA</th>\n",
       "      <th>POT</th>\n",
       "      <th>ID</th>\n",
       "      <th>...</th>\n",
       "      <th>DRI</th>\n",
       "      <th>DEF</th>\n",
       "      <th>PHY</th>\n",
       "      <th>Hits</th>\n",
       "      <th>Team</th>\n",
       "      <th>Start Year</th>\n",
       "      <th>End Year</th>\n",
       "      <th>Loan</th>\n",
       "      <th>Date</th>\n",
       "      <th>Free</th>\n",
       "    </tr>\n",
       "  </thead>\n",
       "  <tbody>\n",
       "    <tr>\n",
       "      <th>0</th>\n",
       "      <td>https://cdn.sofifa.com/players/158/023/21_60.png</td>\n",
       "      <td>Lionel Messi</td>\n",
       "      <td>http://sofifa.com/player/158023/lionel-messi/2...</td>\n",
       "      <td>Argentina</td>\n",
       "      <td>RW ST CF</td>\n",
       "      <td>L. Messi</td>\n",
       "      <td>33</td>\n",
       "      <td>93</td>\n",
       "      <td>93</td>\n",
       "      <td>158023</td>\n",
       "      <td>...</td>\n",
       "      <td>95</td>\n",
       "      <td>38</td>\n",
       "      <td>65</td>\n",
       "      <td>372</td>\n",
       "      <td>FC Barcelona</td>\n",
       "      <td>2004.0</td>\n",
       "      <td>2021.0</td>\n",
       "      <td>False</td>\n",
       "      <td>NaT</td>\n",
       "      <td>False</td>\n",
       "    </tr>\n",
       "    <tr>\n",
       "      <th>1</th>\n",
       "      <td>https://cdn.sofifa.com/players/020/801/21_60.png</td>\n",
       "      <td>C. Ronaldo dos Santos Aveiro</td>\n",
       "      <td>http://sofifa.com/player/20801/c-ronaldo-dos-s...</td>\n",
       "      <td>Portugal</td>\n",
       "      <td>ST LW</td>\n",
       "      <td>Cristiano Ronaldo</td>\n",
       "      <td>35</td>\n",
       "      <td>92</td>\n",
       "      <td>92</td>\n",
       "      <td>20801</td>\n",
       "      <td>...</td>\n",
       "      <td>89</td>\n",
       "      <td>35</td>\n",
       "      <td>77</td>\n",
       "      <td>344</td>\n",
       "      <td>Juventus</td>\n",
       "      <td>2018.0</td>\n",
       "      <td>2022.0</td>\n",
       "      <td>False</td>\n",
       "      <td>NaT</td>\n",
       "      <td>False</td>\n",
       "    </tr>\n",
       "    <tr>\n",
       "      <th>2</th>\n",
       "      <td>https://cdn.sofifa.com/players/200/389/21_60.png</td>\n",
       "      <td>Jan Oblak</td>\n",
       "      <td>http://sofifa.com/player/200389/jan-oblak/210005/</td>\n",
       "      <td>Slovenia</td>\n",
       "      <td>GK</td>\n",
       "      <td>J. Oblak</td>\n",
       "      <td>27</td>\n",
       "      <td>91</td>\n",
       "      <td>93</td>\n",
       "      <td>200389</td>\n",
       "      <td>...</td>\n",
       "      <td>90</td>\n",
       "      <td>52</td>\n",
       "      <td>90</td>\n",
       "      <td>86</td>\n",
       "      <td>Atlético Madrid</td>\n",
       "      <td>2014.0</td>\n",
       "      <td>2023.0</td>\n",
       "      <td>False</td>\n",
       "      <td>NaT</td>\n",
       "      <td>False</td>\n",
       "    </tr>\n",
       "    <tr>\n",
       "      <th>3</th>\n",
       "      <td>https://cdn.sofifa.com/players/192/985/21_60.png</td>\n",
       "      <td>Kevin De Bruyne</td>\n",
       "      <td>http://sofifa.com/player/192985/kevin-de-bruyn...</td>\n",
       "      <td>Belgium</td>\n",
       "      <td>CAM CM</td>\n",
       "      <td>K. De Bruyne</td>\n",
       "      <td>29</td>\n",
       "      <td>91</td>\n",
       "      <td>91</td>\n",
       "      <td>192985</td>\n",
       "      <td>...</td>\n",
       "      <td>88</td>\n",
       "      <td>64</td>\n",
       "      <td>78</td>\n",
       "      <td>163</td>\n",
       "      <td>Manchester City</td>\n",
       "      <td>2015.0</td>\n",
       "      <td>2023.0</td>\n",
       "      <td>False</td>\n",
       "      <td>NaT</td>\n",
       "      <td>False</td>\n",
       "    </tr>\n",
       "    <tr>\n",
       "      <th>4</th>\n",
       "      <td>https://cdn.sofifa.com/players/190/871/21_60.png</td>\n",
       "      <td>Neymar da Silva Santos Jr.</td>\n",
       "      <td>http://sofifa.com/player/190871/neymar-da-silv...</td>\n",
       "      <td>Brazil</td>\n",
       "      <td>LW CAM</td>\n",
       "      <td>Neymar Jr</td>\n",
       "      <td>28</td>\n",
       "      <td>91</td>\n",
       "      <td>91</td>\n",
       "      <td>190871</td>\n",
       "      <td>...</td>\n",
       "      <td>94</td>\n",
       "      <td>36</td>\n",
       "      <td>59</td>\n",
       "      <td>273</td>\n",
       "      <td>Paris Saint-Germain</td>\n",
       "      <td>2017.0</td>\n",
       "      <td>2022.0</td>\n",
       "      <td>False</td>\n",
       "      <td>NaT</td>\n",
       "      <td>False</td>\n",
       "    </tr>\n",
       "    <tr>\n",
       "      <th>...</th>\n",
       "      <td>...</td>\n",
       "      <td>...</td>\n",
       "      <td>...</td>\n",
       "      <td>...</td>\n",
       "      <td>...</td>\n",
       "      <td>...</td>\n",
       "      <td>...</td>\n",
       "      <td>...</td>\n",
       "      <td>...</td>\n",
       "      <td>...</td>\n",
       "      <td>...</td>\n",
       "      <td>...</td>\n",
       "      <td>...</td>\n",
       "      <td>...</td>\n",
       "      <td>...</td>\n",
       "      <td>...</td>\n",
       "      <td>...</td>\n",
       "      <td>...</td>\n",
       "      <td>...</td>\n",
       "      <td>...</td>\n",
       "      <td>...</td>\n",
       "    </tr>\n",
       "    <tr>\n",
       "      <th>18974</th>\n",
       "      <td>https://cdn.sofifa.com/players/257/710/21_60.png</td>\n",
       "      <td>Mengxuan Zhang</td>\n",
       "      <td>http://sofifa.com/player/257710/mengxuan-zhang...</td>\n",
       "      <td>China PR</td>\n",
       "      <td>CB</td>\n",
       "      <td>Zhang Mengxuan</td>\n",
       "      <td>21</td>\n",
       "      <td>47</td>\n",
       "      <td>52</td>\n",
       "      <td>257710</td>\n",
       "      <td>...</td>\n",
       "      <td>27</td>\n",
       "      <td>50</td>\n",
       "      <td>48</td>\n",
       "      <td>2</td>\n",
       "      <td>Chongqing Dangdai Lifan FC SWM Team</td>\n",
       "      <td>2020.0</td>\n",
       "      <td>2020.0</td>\n",
       "      <td>False</td>\n",
       "      <td>NaT</td>\n",
       "      <td>False</td>\n",
       "    </tr>\n",
       "    <tr>\n",
       "      <th>18975</th>\n",
       "      <td>https://cdn.sofifa.com/players/258/736/21_60.png</td>\n",
       "      <td>Vani Da Silva</td>\n",
       "      <td>http://sofifa.com/player/258736/vani-da-silva/...</td>\n",
       "      <td>England</td>\n",
       "      <td>ST</td>\n",
       "      <td>V. Da Silva</td>\n",
       "      <td>17</td>\n",
       "      <td>47</td>\n",
       "      <td>67</td>\n",
       "      <td>258736</td>\n",
       "      <td>...</td>\n",
       "      <td>53</td>\n",
       "      <td>16</td>\n",
       "      <td>40</td>\n",
       "      <td>3</td>\n",
       "      <td>Oldham Athletic</td>\n",
       "      <td>2020.0</td>\n",
       "      <td>2021.0</td>\n",
       "      <td>False</td>\n",
       "      <td>NaT</td>\n",
       "      <td>False</td>\n",
       "    </tr>\n",
       "    <tr>\n",
       "      <th>18976</th>\n",
       "      <td>https://cdn.sofifa.com/players/247/223/21_60.png</td>\n",
       "      <td>Ao Xia</td>\n",
       "      <td>http://sofifa.com/player/247223/ao-xia/210005/</td>\n",
       "      <td>China PR</td>\n",
       "      <td>CB</td>\n",
       "      <td>Xia Ao</td>\n",
       "      <td>21</td>\n",
       "      <td>47</td>\n",
       "      <td>55</td>\n",
       "      <td>247223</td>\n",
       "      <td>...</td>\n",
       "      <td>38</td>\n",
       "      <td>48</td>\n",
       "      <td>51</td>\n",
       "      <td>3</td>\n",
       "      <td>Wuhan Zall</td>\n",
       "      <td>2018.0</td>\n",
       "      <td>2022.0</td>\n",
       "      <td>False</td>\n",
       "      <td>NaT</td>\n",
       "      <td>False</td>\n",
       "    </tr>\n",
       "    <tr>\n",
       "      <th>18977</th>\n",
       "      <td>https://cdn.sofifa.com/players/258/760/21_60.png</td>\n",
       "      <td>Ben Hough</td>\n",
       "      <td>http://sofifa.com/player/258760/ben-hough/210005/</td>\n",
       "      <td>England</td>\n",
       "      <td>CM</td>\n",
       "      <td>B. Hough</td>\n",
       "      <td>17</td>\n",
       "      <td>47</td>\n",
       "      <td>67</td>\n",
       "      <td>258760</td>\n",
       "      <td>...</td>\n",
       "      <td>49</td>\n",
       "      <td>35</td>\n",
       "      <td>45</td>\n",
       "      <td>5</td>\n",
       "      <td>Oldham Athletic</td>\n",
       "      <td>2020.0</td>\n",
       "      <td>2021.0</td>\n",
       "      <td>False</td>\n",
       "      <td>NaT</td>\n",
       "      <td>False</td>\n",
       "    </tr>\n",
       "    <tr>\n",
       "      <th>18978</th>\n",
       "      <td>https://cdn.sofifa.com/players/255/958/21_60.png</td>\n",
       "      <td>Mateo Flores</td>\n",
       "      <td>http://sofifa.com/player/255958/mateo-flores/2...</td>\n",
       "      <td>Bolivia</td>\n",
       "      <td>CDM</td>\n",
       "      <td>M. Flores</td>\n",
       "      <td>19</td>\n",
       "      <td>47</td>\n",
       "      <td>63</td>\n",
       "      <td>255958</td>\n",
       "      <td>...</td>\n",
       "      <td>48</td>\n",
       "      <td>44</td>\n",
       "      <td>49</td>\n",
       "      <td>2</td>\n",
       "      <td>Club Bolívar</td>\n",
       "      <td>2020.0</td>\n",
       "      <td>2024.0</td>\n",
       "      <td>False</td>\n",
       "      <td>NaT</td>\n",
       "      <td>False</td>\n",
       "    </tr>\n",
       "  </tbody>\n",
       "</table>\n",
       "<p>18979 rows × 82 columns</p>\n",
       "</div>"
      ],
      "text/plain": [
       "                                               photoUrl  \\\n",
       "0      https://cdn.sofifa.com/players/158/023/21_60.png   \n",
       "1      https://cdn.sofifa.com/players/020/801/21_60.png   \n",
       "2      https://cdn.sofifa.com/players/200/389/21_60.png   \n",
       "3      https://cdn.sofifa.com/players/192/985/21_60.png   \n",
       "4      https://cdn.sofifa.com/players/190/871/21_60.png   \n",
       "...                                                 ...   \n",
       "18974  https://cdn.sofifa.com/players/257/710/21_60.png   \n",
       "18975  https://cdn.sofifa.com/players/258/736/21_60.png   \n",
       "18976  https://cdn.sofifa.com/players/247/223/21_60.png   \n",
       "18977  https://cdn.sofifa.com/players/258/760/21_60.png   \n",
       "18978  https://cdn.sofifa.com/players/255/958/21_60.png   \n",
       "\n",
       "                           LongName  \\\n",
       "0                      Lionel Messi   \n",
       "1      C. Ronaldo dos Santos Aveiro   \n",
       "2                         Jan Oblak   \n",
       "3                   Kevin De Bruyne   \n",
       "4        Neymar da Silva Santos Jr.   \n",
       "...                             ...   \n",
       "18974                Mengxuan Zhang   \n",
       "18975                 Vani Da Silva   \n",
       "18976                        Ao Xia   \n",
       "18977                     Ben Hough   \n",
       "18978                  Mateo Flores   \n",
       "\n",
       "                                               playerUrl Nationality  \\\n",
       "0      http://sofifa.com/player/158023/lionel-messi/2...   Argentina   \n",
       "1      http://sofifa.com/player/20801/c-ronaldo-dos-s...    Portugal   \n",
       "2      http://sofifa.com/player/200389/jan-oblak/210005/    Slovenia   \n",
       "3      http://sofifa.com/player/192985/kevin-de-bruyn...     Belgium   \n",
       "4      http://sofifa.com/player/190871/neymar-da-silv...      Brazil   \n",
       "...                                                  ...         ...   \n",
       "18974  http://sofifa.com/player/257710/mengxuan-zhang...    China PR   \n",
       "18975  http://sofifa.com/player/258736/vani-da-silva/...     England   \n",
       "18976     http://sofifa.com/player/247223/ao-xia/210005/    China PR   \n",
       "18977  http://sofifa.com/player/258760/ben-hough/210005/     England   \n",
       "18978  http://sofifa.com/player/255958/mateo-flores/2...     Bolivia   \n",
       "\n",
       "      Positions               Name  Age  ↓OVA  POT      ID  ...  DRI  DEF PHY  \\\n",
       "0      RW ST CF           L. Messi   33    93   93  158023  ...   95   38  65   \n",
       "1         ST LW  Cristiano Ronaldo   35    92   92   20801  ...   89   35  77   \n",
       "2            GK           J. Oblak   27    91   93  200389  ...   90   52  90   \n",
       "3        CAM CM       K. De Bruyne   29    91   91  192985  ...   88   64  78   \n",
       "4        LW CAM          Neymar Jr   28    91   91  190871  ...   94   36  59   \n",
       "...         ...                ...  ...   ...  ...     ...  ...  ...  ...  ..   \n",
       "18974        CB     Zhang Mengxuan   21    47   52  257710  ...   27   50  48   \n",
       "18975        ST        V. Da Silva   17    47   67  258736  ...   53   16  40   \n",
       "18976        CB             Xia Ao   21    47   55  247223  ...   38   48  51   \n",
       "18977        CM           B. Hough   17    47   67  258760  ...   49   35  45   \n",
       "18978       CDM          M. Flores   19    47   63  255958  ...   48   44  49   \n",
       "\n",
       "       Hits                                 Team  Start Year End Year   Loan  \\\n",
       "0       372                         FC Barcelona      2004.0   2021.0  False   \n",
       "1       344                             Juventus      2018.0   2022.0  False   \n",
       "2        86                      Atlético Madrid      2014.0   2023.0  False   \n",
       "3       163                      Manchester City      2015.0   2023.0  False   \n",
       "4       273                  Paris Saint-Germain      2017.0   2022.0  False   \n",
       "...     ...                                  ...         ...      ...    ...   \n",
       "18974     2  Chongqing Dangdai Lifan FC SWM Team      2020.0   2020.0  False   \n",
       "18975     3                      Oldham Athletic      2020.0   2021.0  False   \n",
       "18976     3                           Wuhan Zall      2018.0   2022.0  False   \n",
       "18977     5                      Oldham Athletic      2020.0   2021.0  False   \n",
       "18978     2                         Club Bolívar      2020.0   2024.0  False   \n",
       "\n",
       "       Date   Free  \n",
       "0       NaT  False  \n",
       "1       NaT  False  \n",
       "2       NaT  False  \n",
       "3       NaT  False  \n",
       "4       NaT  False  \n",
       "...     ...    ...  \n",
       "18974   NaT  False  \n",
       "18975   NaT  False  \n",
       "18976   NaT  False  \n",
       "18977   NaT  False  \n",
       "18978   NaT  False  \n",
       "\n",
       "[18979 rows x 82 columns]"
      ]
     },
     "execution_count": 48,
     "metadata": {},
     "output_type": "execute_result"
    }
   ],
   "source": [
    "# Checking the results\n",
    "fifa21"
   ]
  },
  {
   "cell_type": "markdown",
   "id": "0b2c6551",
   "metadata": {},
   "source": [
    "## Further Cleaning and Renaming"
   ]
  },
  {
   "cell_type": "code",
   "execution_count": 49,
   "id": "222a41fa",
   "metadata": {},
   "outputs": [],
   "source": [
    "rename_dict = {\n",
    "    'photoUrl' : 'Photo',\n",
    "    'LongName' : 'Full Name',\n",
    "    'playerUrl': 'Player Info',\n",
    "    '↓OVA': 'OVA',\n",
    "    'foot': 'Foot'\n",
    "}"
   ]
  },
  {
   "cell_type": "code",
   "execution_count": 50,
   "id": "03901a51",
   "metadata": {},
   "outputs": [],
   "source": [
    "fifa21.rename(columns = rename_dict, inplace = True)"
   ]
  },
  {
   "cell_type": "code",
   "execution_count": 51,
   "id": "b9fe3943",
   "metadata": {
    "scrolled": true
   },
   "outputs": [
    {
     "data": {
      "text/html": [
       "<div>\n",
       "<style scoped>\n",
       "    .dataframe tbody tr th:only-of-type {\n",
       "        vertical-align: middle;\n",
       "    }\n",
       "\n",
       "    .dataframe tbody tr th {\n",
       "        vertical-align: top;\n",
       "    }\n",
       "\n",
       "    .dataframe thead th {\n",
       "        text-align: right;\n",
       "    }\n",
       "</style>\n",
       "<table border=\"1\" class=\"dataframe\">\n",
       "  <thead>\n",
       "    <tr style=\"text-align: right;\">\n",
       "      <th></th>\n",
       "      <th>Photo</th>\n",
       "      <th>Full Name</th>\n",
       "      <th>Player Info</th>\n",
       "      <th>Nationality</th>\n",
       "      <th>Positions</th>\n",
       "      <th>Name</th>\n",
       "      <th>Age</th>\n",
       "      <th>OVA</th>\n",
       "      <th>POT</th>\n",
       "      <th>ID</th>\n",
       "      <th>...</th>\n",
       "      <th>DRI</th>\n",
       "      <th>DEF</th>\n",
       "      <th>PHY</th>\n",
       "      <th>Hits</th>\n",
       "      <th>Team</th>\n",
       "      <th>Start Year</th>\n",
       "      <th>End Year</th>\n",
       "      <th>Loan</th>\n",
       "      <th>Date</th>\n",
       "      <th>Free</th>\n",
       "    </tr>\n",
       "  </thead>\n",
       "  <tbody>\n",
       "    <tr>\n",
       "      <th>0</th>\n",
       "      <td>https://cdn.sofifa.com/players/158/023/21_60.png</td>\n",
       "      <td>Lionel Messi</td>\n",
       "      <td>http://sofifa.com/player/158023/lionel-messi/2...</td>\n",
       "      <td>Argentina</td>\n",
       "      <td>RW ST CF</td>\n",
       "      <td>L. Messi</td>\n",
       "      <td>33</td>\n",
       "      <td>93</td>\n",
       "      <td>93</td>\n",
       "      <td>158023</td>\n",
       "      <td>...</td>\n",
       "      <td>95</td>\n",
       "      <td>38</td>\n",
       "      <td>65</td>\n",
       "      <td>372</td>\n",
       "      <td>FC Barcelona</td>\n",
       "      <td>2004.0</td>\n",
       "      <td>2021.0</td>\n",
       "      <td>False</td>\n",
       "      <td>NaT</td>\n",
       "      <td>False</td>\n",
       "    </tr>\n",
       "    <tr>\n",
       "      <th>1</th>\n",
       "      <td>https://cdn.sofifa.com/players/020/801/21_60.png</td>\n",
       "      <td>C. Ronaldo dos Santos Aveiro</td>\n",
       "      <td>http://sofifa.com/player/20801/c-ronaldo-dos-s...</td>\n",
       "      <td>Portugal</td>\n",
       "      <td>ST LW</td>\n",
       "      <td>Cristiano Ronaldo</td>\n",
       "      <td>35</td>\n",
       "      <td>92</td>\n",
       "      <td>92</td>\n",
       "      <td>20801</td>\n",
       "      <td>...</td>\n",
       "      <td>89</td>\n",
       "      <td>35</td>\n",
       "      <td>77</td>\n",
       "      <td>344</td>\n",
       "      <td>Juventus</td>\n",
       "      <td>2018.0</td>\n",
       "      <td>2022.0</td>\n",
       "      <td>False</td>\n",
       "      <td>NaT</td>\n",
       "      <td>False</td>\n",
       "    </tr>\n",
       "    <tr>\n",
       "      <th>2</th>\n",
       "      <td>https://cdn.sofifa.com/players/200/389/21_60.png</td>\n",
       "      <td>Jan Oblak</td>\n",
       "      <td>http://sofifa.com/player/200389/jan-oblak/210005/</td>\n",
       "      <td>Slovenia</td>\n",
       "      <td>GK</td>\n",
       "      <td>J. Oblak</td>\n",
       "      <td>27</td>\n",
       "      <td>91</td>\n",
       "      <td>93</td>\n",
       "      <td>200389</td>\n",
       "      <td>...</td>\n",
       "      <td>90</td>\n",
       "      <td>52</td>\n",
       "      <td>90</td>\n",
       "      <td>86</td>\n",
       "      <td>Atlético Madrid</td>\n",
       "      <td>2014.0</td>\n",
       "      <td>2023.0</td>\n",
       "      <td>False</td>\n",
       "      <td>NaT</td>\n",
       "      <td>False</td>\n",
       "    </tr>\n",
       "    <tr>\n",
       "      <th>3</th>\n",
       "      <td>https://cdn.sofifa.com/players/192/985/21_60.png</td>\n",
       "      <td>Kevin De Bruyne</td>\n",
       "      <td>http://sofifa.com/player/192985/kevin-de-bruyn...</td>\n",
       "      <td>Belgium</td>\n",
       "      <td>CAM CM</td>\n",
       "      <td>K. De Bruyne</td>\n",
       "      <td>29</td>\n",
       "      <td>91</td>\n",
       "      <td>91</td>\n",
       "      <td>192985</td>\n",
       "      <td>...</td>\n",
       "      <td>88</td>\n",
       "      <td>64</td>\n",
       "      <td>78</td>\n",
       "      <td>163</td>\n",
       "      <td>Manchester City</td>\n",
       "      <td>2015.0</td>\n",
       "      <td>2023.0</td>\n",
       "      <td>False</td>\n",
       "      <td>NaT</td>\n",
       "      <td>False</td>\n",
       "    </tr>\n",
       "    <tr>\n",
       "      <th>4</th>\n",
       "      <td>https://cdn.sofifa.com/players/190/871/21_60.png</td>\n",
       "      <td>Neymar da Silva Santos Jr.</td>\n",
       "      <td>http://sofifa.com/player/190871/neymar-da-silv...</td>\n",
       "      <td>Brazil</td>\n",
       "      <td>LW CAM</td>\n",
       "      <td>Neymar Jr</td>\n",
       "      <td>28</td>\n",
       "      <td>91</td>\n",
       "      <td>91</td>\n",
       "      <td>190871</td>\n",
       "      <td>...</td>\n",
       "      <td>94</td>\n",
       "      <td>36</td>\n",
       "      <td>59</td>\n",
       "      <td>273</td>\n",
       "      <td>Paris Saint-Germain</td>\n",
       "      <td>2017.0</td>\n",
       "      <td>2022.0</td>\n",
       "      <td>False</td>\n",
       "      <td>NaT</td>\n",
       "      <td>False</td>\n",
       "    </tr>\n",
       "    <tr>\n",
       "      <th>...</th>\n",
       "      <td>...</td>\n",
       "      <td>...</td>\n",
       "      <td>...</td>\n",
       "      <td>...</td>\n",
       "      <td>...</td>\n",
       "      <td>...</td>\n",
       "      <td>...</td>\n",
       "      <td>...</td>\n",
       "      <td>...</td>\n",
       "      <td>...</td>\n",
       "      <td>...</td>\n",
       "      <td>...</td>\n",
       "      <td>...</td>\n",
       "      <td>...</td>\n",
       "      <td>...</td>\n",
       "      <td>...</td>\n",
       "      <td>...</td>\n",
       "      <td>...</td>\n",
       "      <td>...</td>\n",
       "      <td>...</td>\n",
       "      <td>...</td>\n",
       "    </tr>\n",
       "    <tr>\n",
       "      <th>18974</th>\n",
       "      <td>https://cdn.sofifa.com/players/257/710/21_60.png</td>\n",
       "      <td>Mengxuan Zhang</td>\n",
       "      <td>http://sofifa.com/player/257710/mengxuan-zhang...</td>\n",
       "      <td>China PR</td>\n",
       "      <td>CB</td>\n",
       "      <td>Zhang Mengxuan</td>\n",
       "      <td>21</td>\n",
       "      <td>47</td>\n",
       "      <td>52</td>\n",
       "      <td>257710</td>\n",
       "      <td>...</td>\n",
       "      <td>27</td>\n",
       "      <td>50</td>\n",
       "      <td>48</td>\n",
       "      <td>2</td>\n",
       "      <td>Chongqing Dangdai Lifan FC SWM Team</td>\n",
       "      <td>2020.0</td>\n",
       "      <td>2020.0</td>\n",
       "      <td>False</td>\n",
       "      <td>NaT</td>\n",
       "      <td>False</td>\n",
       "    </tr>\n",
       "    <tr>\n",
       "      <th>18975</th>\n",
       "      <td>https://cdn.sofifa.com/players/258/736/21_60.png</td>\n",
       "      <td>Vani Da Silva</td>\n",
       "      <td>http://sofifa.com/player/258736/vani-da-silva/...</td>\n",
       "      <td>England</td>\n",
       "      <td>ST</td>\n",
       "      <td>V. Da Silva</td>\n",
       "      <td>17</td>\n",
       "      <td>47</td>\n",
       "      <td>67</td>\n",
       "      <td>258736</td>\n",
       "      <td>...</td>\n",
       "      <td>53</td>\n",
       "      <td>16</td>\n",
       "      <td>40</td>\n",
       "      <td>3</td>\n",
       "      <td>Oldham Athletic</td>\n",
       "      <td>2020.0</td>\n",
       "      <td>2021.0</td>\n",
       "      <td>False</td>\n",
       "      <td>NaT</td>\n",
       "      <td>False</td>\n",
       "    </tr>\n",
       "    <tr>\n",
       "      <th>18976</th>\n",
       "      <td>https://cdn.sofifa.com/players/247/223/21_60.png</td>\n",
       "      <td>Ao Xia</td>\n",
       "      <td>http://sofifa.com/player/247223/ao-xia/210005/</td>\n",
       "      <td>China PR</td>\n",
       "      <td>CB</td>\n",
       "      <td>Xia Ao</td>\n",
       "      <td>21</td>\n",
       "      <td>47</td>\n",
       "      <td>55</td>\n",
       "      <td>247223</td>\n",
       "      <td>...</td>\n",
       "      <td>38</td>\n",
       "      <td>48</td>\n",
       "      <td>51</td>\n",
       "      <td>3</td>\n",
       "      <td>Wuhan Zall</td>\n",
       "      <td>2018.0</td>\n",
       "      <td>2022.0</td>\n",
       "      <td>False</td>\n",
       "      <td>NaT</td>\n",
       "      <td>False</td>\n",
       "    </tr>\n",
       "    <tr>\n",
       "      <th>18977</th>\n",
       "      <td>https://cdn.sofifa.com/players/258/760/21_60.png</td>\n",
       "      <td>Ben Hough</td>\n",
       "      <td>http://sofifa.com/player/258760/ben-hough/210005/</td>\n",
       "      <td>England</td>\n",
       "      <td>CM</td>\n",
       "      <td>B. Hough</td>\n",
       "      <td>17</td>\n",
       "      <td>47</td>\n",
       "      <td>67</td>\n",
       "      <td>258760</td>\n",
       "      <td>...</td>\n",
       "      <td>49</td>\n",
       "      <td>35</td>\n",
       "      <td>45</td>\n",
       "      <td>5</td>\n",
       "      <td>Oldham Athletic</td>\n",
       "      <td>2020.0</td>\n",
       "      <td>2021.0</td>\n",
       "      <td>False</td>\n",
       "      <td>NaT</td>\n",
       "      <td>False</td>\n",
       "    </tr>\n",
       "    <tr>\n",
       "      <th>18978</th>\n",
       "      <td>https://cdn.sofifa.com/players/255/958/21_60.png</td>\n",
       "      <td>Mateo Flores</td>\n",
       "      <td>http://sofifa.com/player/255958/mateo-flores/2...</td>\n",
       "      <td>Bolivia</td>\n",
       "      <td>CDM</td>\n",
       "      <td>M. Flores</td>\n",
       "      <td>19</td>\n",
       "      <td>47</td>\n",
       "      <td>63</td>\n",
       "      <td>255958</td>\n",
       "      <td>...</td>\n",
       "      <td>48</td>\n",
       "      <td>44</td>\n",
       "      <td>49</td>\n",
       "      <td>2</td>\n",
       "      <td>Club Bolívar</td>\n",
       "      <td>2020.0</td>\n",
       "      <td>2024.0</td>\n",
       "      <td>False</td>\n",
       "      <td>NaT</td>\n",
       "      <td>False</td>\n",
       "    </tr>\n",
       "  </tbody>\n",
       "</table>\n",
       "<p>18979 rows × 82 columns</p>\n",
       "</div>"
      ],
      "text/plain": [
       "                                                  Photo  \\\n",
       "0      https://cdn.sofifa.com/players/158/023/21_60.png   \n",
       "1      https://cdn.sofifa.com/players/020/801/21_60.png   \n",
       "2      https://cdn.sofifa.com/players/200/389/21_60.png   \n",
       "3      https://cdn.sofifa.com/players/192/985/21_60.png   \n",
       "4      https://cdn.sofifa.com/players/190/871/21_60.png   \n",
       "...                                                 ...   \n",
       "18974  https://cdn.sofifa.com/players/257/710/21_60.png   \n",
       "18975  https://cdn.sofifa.com/players/258/736/21_60.png   \n",
       "18976  https://cdn.sofifa.com/players/247/223/21_60.png   \n",
       "18977  https://cdn.sofifa.com/players/258/760/21_60.png   \n",
       "18978  https://cdn.sofifa.com/players/255/958/21_60.png   \n",
       "\n",
       "                          Full Name  \\\n",
       "0                      Lionel Messi   \n",
       "1      C. Ronaldo dos Santos Aveiro   \n",
       "2                         Jan Oblak   \n",
       "3                   Kevin De Bruyne   \n",
       "4        Neymar da Silva Santos Jr.   \n",
       "...                             ...   \n",
       "18974                Mengxuan Zhang   \n",
       "18975                 Vani Da Silva   \n",
       "18976                        Ao Xia   \n",
       "18977                     Ben Hough   \n",
       "18978                  Mateo Flores   \n",
       "\n",
       "                                             Player Info Nationality  \\\n",
       "0      http://sofifa.com/player/158023/lionel-messi/2...   Argentina   \n",
       "1      http://sofifa.com/player/20801/c-ronaldo-dos-s...    Portugal   \n",
       "2      http://sofifa.com/player/200389/jan-oblak/210005/    Slovenia   \n",
       "3      http://sofifa.com/player/192985/kevin-de-bruyn...     Belgium   \n",
       "4      http://sofifa.com/player/190871/neymar-da-silv...      Brazil   \n",
       "...                                                  ...         ...   \n",
       "18974  http://sofifa.com/player/257710/mengxuan-zhang...    China PR   \n",
       "18975  http://sofifa.com/player/258736/vani-da-silva/...     England   \n",
       "18976     http://sofifa.com/player/247223/ao-xia/210005/    China PR   \n",
       "18977  http://sofifa.com/player/258760/ben-hough/210005/     England   \n",
       "18978  http://sofifa.com/player/255958/mateo-flores/2...     Bolivia   \n",
       "\n",
       "      Positions               Name  Age  OVA  POT      ID  ...  DRI  DEF PHY  \\\n",
       "0      RW ST CF           L. Messi   33   93   93  158023  ...   95   38  65   \n",
       "1         ST LW  Cristiano Ronaldo   35   92   92   20801  ...   89   35  77   \n",
       "2            GK           J. Oblak   27   91   93  200389  ...   90   52  90   \n",
       "3        CAM CM       K. De Bruyne   29   91   91  192985  ...   88   64  78   \n",
       "4        LW CAM          Neymar Jr   28   91   91  190871  ...   94   36  59   \n",
       "...         ...                ...  ...  ...  ...     ...  ...  ...  ...  ..   \n",
       "18974        CB     Zhang Mengxuan   21   47   52  257710  ...   27   50  48   \n",
       "18975        ST        V. Da Silva   17   47   67  258736  ...   53   16  40   \n",
       "18976        CB             Xia Ao   21   47   55  247223  ...   38   48  51   \n",
       "18977        CM           B. Hough   17   47   67  258760  ...   49   35  45   \n",
       "18978       CDM          M. Flores   19   47   63  255958  ...   48   44  49   \n",
       "\n",
       "       Hits                                 Team  Start Year End Year   Loan  \\\n",
       "0       372                         FC Barcelona      2004.0   2021.0  False   \n",
       "1       344                             Juventus      2018.0   2022.0  False   \n",
       "2        86                      Atlético Madrid      2014.0   2023.0  False   \n",
       "3       163                      Manchester City      2015.0   2023.0  False   \n",
       "4       273                  Paris Saint-Germain      2017.0   2022.0  False   \n",
       "...     ...                                  ...         ...      ...    ...   \n",
       "18974     2  Chongqing Dangdai Lifan FC SWM Team      2020.0   2020.0  False   \n",
       "18975     3                      Oldham Athletic      2020.0   2021.0  False   \n",
       "18976     3                           Wuhan Zall      2018.0   2022.0  False   \n",
       "18977     5                      Oldham Athletic      2020.0   2021.0  False   \n",
       "18978     2                         Club Bolívar      2020.0   2024.0  False   \n",
       "\n",
       "       Date   Free  \n",
       "0       NaT  False  \n",
       "1       NaT  False  \n",
       "2       NaT  False  \n",
       "3       NaT  False  \n",
       "4       NaT  False  \n",
       "...     ...    ...  \n",
       "18974   NaT  False  \n",
       "18975   NaT  False  \n",
       "18976   NaT  False  \n",
       "18977   NaT  False  \n",
       "18978   NaT  False  \n",
       "\n",
       "[18979 rows x 82 columns]"
      ]
     },
     "execution_count": 51,
     "metadata": {},
     "output_type": "execute_result"
    }
   ],
   "source": [
    "fifa21"
   ]
  },
  {
   "cell_type": "markdown",
   "id": "c7b0712e",
   "metadata": {},
   "source": [
    "## Removing the stars from the W/F, SM and IR columns and converting them to integers"
   ]
  },
  {
   "cell_type": "code",
   "execution_count": 52,
   "id": "23a8fa45",
   "metadata": {},
   "outputs": [
    {
     "data": {
      "text/plain": [
       "0        4 ★\n",
       "1        4 ★\n",
       "2        3 ★\n",
       "3        5 ★\n",
       "4        5 ★\n",
       "        ... \n",
       "18974    2 ★\n",
       "18975    2 ★\n",
       "18976    2 ★\n",
       "18977    2 ★\n",
       "18978    3 ★\n",
       "Name: W/F, Length: 18979, dtype: object"
      ]
     },
     "execution_count": 52,
     "metadata": {},
     "output_type": "execute_result"
    }
   ],
   "source": [
    "fifa21['W/F']"
   ]
  },
  {
   "cell_type": "code",
   "execution_count": 53,
   "id": "c704c637",
   "metadata": {},
   "outputs": [
    {
     "data": {
      "text/plain": [
       "0        4★\n",
       "1        5★\n",
       "2        1★\n",
       "3        4★\n",
       "4        5★\n",
       "         ..\n",
       "18974    2★\n",
       "18975    2★\n",
       "18976    2★\n",
       "18977    2★\n",
       "18978    2★\n",
       "Name: SM, Length: 18979, dtype: object"
      ]
     },
     "execution_count": 53,
     "metadata": {},
     "output_type": "execute_result"
    }
   ],
   "source": [
    "fifa21['SM']"
   ]
  },
  {
   "cell_type": "code",
   "execution_count": 54,
   "id": "913b6253",
   "metadata": {},
   "outputs": [
    {
     "data": {
      "text/plain": [
       "0        5 ★\n",
       "1        5 ★\n",
       "2        3 ★\n",
       "3        4 ★\n",
       "4        5 ★\n",
       "        ... \n",
       "18974    1 ★\n",
       "18975    1 ★\n",
       "18976    1 ★\n",
       "18977    1 ★\n",
       "18978    1 ★\n",
       "Name: IR, Length: 18979, dtype: object"
      ]
     },
     "execution_count": 54,
     "metadata": {},
     "output_type": "execute_result"
    }
   ],
   "source": [
    "fifa21['IR']"
   ]
  },
  {
   "cell_type": "code",
   "execution_count": 55,
   "id": "437b3387",
   "metadata": {},
   "outputs": [],
   "source": [
    "for index, value in enumerate(fifa21['W/F']):\n",
    "    fifa21.loc[index, 'W/F'] = int(value[0])\n",
    "fifa21['W/F'] = fifa21['W/F'].astype(int)"
   ]
  },
  {
   "cell_type": "code",
   "execution_count": 56,
   "id": "63a72a29",
   "metadata": {},
   "outputs": [],
   "source": [
    "for index, value in enumerate(fifa21['SM']):\n",
    "    fifa21.loc[index, 'SM'] = int(value[0])\n",
    "fifa21['SM'] = fifa21['SM'].astype(int)"
   ]
  },
  {
   "cell_type": "code",
   "execution_count": 57,
   "id": "78be141a",
   "metadata": {},
   "outputs": [],
   "source": [
    "for index, value in enumerate(fifa21['IR']):\n",
    "    fifa21.loc[index, 'IR'] = int(value[0])\n",
    "fifa21['IR'] = fifa21['IR'].astype(int)"
   ]
  },
  {
   "cell_type": "markdown",
   "id": "71e9bfad",
   "metadata": {},
   "source": [
    "## Exporting the cleaned data to an Excel Spreadsheet"
   ]
  },
  {
   "cell_type": "code",
   "execution_count": 58,
   "id": "c036d0b3",
   "metadata": {},
   "outputs": [],
   "source": [
    "fifa21.index.rename('Sl. No', inplace = True)"
   ]
  },
  {
   "cell_type": "code",
   "execution_count": 59,
   "id": "51aa4146",
   "metadata": {},
   "outputs": [],
   "source": [
    "# Exporting to a .xlsx file\n",
    "fifa21.to_excel('fifa21_cleaned_data.xlsx')"
   ]
  }
 ],
 "metadata": {
  "kernelspec": {
   "display_name": "Python 3 (ipykernel)",
   "language": "python",
   "name": "python3"
  },
  "language_info": {
   "codemirror_mode": {
    "name": "ipython",
    "version": 3
   },
   "file_extension": ".py",
   "mimetype": "text/x-python",
   "name": "python",
   "nbconvert_exporter": "python",
   "pygments_lexer": "ipython3",
   "version": "3.9.12"
  }
 },
 "nbformat": 4,
 "nbformat_minor": 5
}
